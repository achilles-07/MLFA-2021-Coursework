{
 "cells": [
  {
   "cell_type": "markdown",
   "metadata": {
    "id": "pGWWA_Qof_tW"
   },
   "source": [
    "# BAGGING\n",
    "\n",
    "Bagging improves the performance of several basic algorithms by making it more robust.\n",
    "\n",
    "We will look at Linear Regression and Decision Tree Regressor model as our base models for Bagging.\n",
    "\n",
    "We will use a housing price dataset (regression problem) with 13 features and 506 data samples."
   ]
  },
  {
   "cell_type": "markdown",
   "metadata": {
    "id": "QQbVgiox726I"
   },
   "source": [
    "## IMPORTING PACKAGES\n",
    "\n",
    "The important packages have been imported for you."
   ]
  },
  {
   "cell_type": "code",
   "execution_count": 2,
   "metadata": {
    "id": "OmMjJpbMbXBk"
   },
   "outputs": [],
   "source": [
    "# IMPORTING IMPORTANT PACKAGES\n",
    "# RUN THE CELL AS IT IS.\n",
    "# DO NOT CHANGE THIS CELL!\n",
    "\n",
    "import numpy as np\n",
    "import pandas as pd\n",
    "import json\n",
    "import matplotlib.pyplot as plt\n",
    "from sklearn.datasets import load_boston\n",
    "from sklearn.metrics import mean_squared_error\n",
    "from sklearn.linear_model import LinearRegression\n",
    "from sklearn.tree import DecisionTreeRegressor\n",
    "from sklearn.model_selection import train_test_split\n",
    "ans = [0]*7"
   ]
  },
  {
   "cell_type": "markdown",
   "metadata": {
    "id": "hixbemiQj97e"
   },
   "source": [
    "## RANDOM NUMBER/LIST GENERATOR\n",
    "\n",
    "We will be using this function to generate a list of random numbers to get consistent results which are important for evaluation. While doing your own projects and work you can use libraries like random and numpy.\n",
    "\n",
    "A brief description of the function:\n",
    "\n",
    "_random_generator(seed, low, high, size)_\n",
    "\n",
    "**seed** = A different seed generates a new list of random number but for the same seed, the same random number is generated.\n",
    "\n",
    "**low** = Lower limit of the range in which to generate random numbers. (**INCLUSIVE**)\n",
    "\n",
    "**high** = Upper limit of the range in which to generate random numbers. (**EXCLUSIVE**)\n",
    "\n",
    "**size** = Number of random numbers to generate. If size = 1, then one scalar number is returned. If size>1 then a list of random numbers is generated.\n",
    "\n",
    "Similar for _unique_random_generator_. This function returns a list of unique random numbers unline _random_generator_"
   ]
  },
  {
   "cell_type": "code",
   "execution_count": 3,
   "metadata": {
    "id": "BnOIgojnkFEP"
   },
   "outputs": [],
   "source": [
    "def random_generator(seed = 0, low = 0, high = None, size = None):\n",
    "    s = seed\n",
    "    a = 11\n",
    "    b = 13\n",
    "\n",
    "    if high is None:\n",
    "        return (\"Error. Upper Limit not found\")\n",
    "    if size is None:\n",
    "        return (\"Error. Size not found\")\n",
    "    if size == 1:\n",
    "        return ((a*s+b)%high)\n",
    "    random_list = []\n",
    "    for i in range(size):\n",
    "        random_list.append((a*s+b)%high)\n",
    "        s = (a*s+b)\n",
    "    return random_list"
   ]
  },
  {
   "cell_type": "markdown",
   "metadata": {
    "id": "NgOhXYm579DV"
   },
   "source": [
    "## LOADING DATASET\n",
    "The dataset is of a regression problem.\n",
    "\n",
    "The target label is housing price. There are 13 features all of which are numerical in nature.\n"
   ]
  },
  {
   "cell_type": "code",
   "execution_count": 4,
   "metadata": {
    "id": "-d4XNpBPfMpk"
   },
   "outputs": [
    {
     "name": "stdout",
     "output_type": "stream",
     "text": [
      "REGRESSION DATASET : \n",
      "      feature1  feature2  feature3  feature4  feature5  feature6  feature7  \\\n",
      "0     0.00632      18.0      2.31       0.0     0.538     6.575      65.2   \n",
      "1     0.02731       0.0      7.07       0.0     0.469     6.421      78.9   \n",
      "2     0.02729       0.0      7.07       0.0     0.469     7.185      61.1   \n",
      "3     0.03237       0.0      2.18       0.0     0.458     6.998      45.8   \n",
      "4     0.06905       0.0      2.18       0.0     0.458     7.147      54.2   \n",
      "..        ...       ...       ...       ...       ...       ...       ...   \n",
      "501   0.06263       0.0     11.93       0.0     0.573     6.593      69.1   \n",
      "502   0.04527       0.0     11.93       0.0     0.573     6.120      76.7   \n",
      "503   0.06076       0.0     11.93       0.0     0.573     6.976      91.0   \n",
      "504   0.10959       0.0     11.93       0.0     0.573     6.794      89.3   \n",
      "505   0.04741       0.0     11.93       0.0     0.573     6.030      80.8   \n",
      "\n",
      "     feature8  feature9  feature10  feature11  feature12  feature13  \\\n",
      "0      4.0900       1.0      296.0       15.3     396.90       4.98   \n",
      "1      4.9671       2.0      242.0       17.8     396.90       9.14   \n",
      "2      4.9671       2.0      242.0       17.8     392.83       4.03   \n",
      "3      6.0622       3.0      222.0       18.7     394.63       2.94   \n",
      "4      6.0622       3.0      222.0       18.7     396.90       5.33   \n",
      "..        ...       ...        ...        ...        ...        ...   \n",
      "501    2.4786       1.0      273.0       21.0     391.99       9.67   \n",
      "502    2.2875       1.0      273.0       21.0     396.90       9.08   \n",
      "503    2.1675       1.0      273.0       21.0     396.90       5.64   \n",
      "504    2.3889       1.0      273.0       21.0     393.45       6.48   \n",
      "505    2.5050       1.0      273.0       21.0     396.90       7.88   \n",
      "\n",
      "     price(target)  \n",
      "0             24.0  \n",
      "1             21.6  \n",
      "2             34.7  \n",
      "3             33.4  \n",
      "4             36.2  \n",
      "..             ...  \n",
      "501           22.4  \n",
      "502           20.6  \n",
      "503           23.9  \n",
      "504           22.0  \n",
      "505           11.9  \n",
      "\n",
      "[506 rows x 14 columns]\n"
     ]
    }
   ],
   "source": [
    "# LOADING THE DATASET\n",
    "# RUN THE CELL AS IT IS\n",
    "# DO NOT CHANGE THIH CELL\n",
    "\n",
    "# reg_dataset -> Regression Dataset : Boston Dataset with Housing price as the target and 13 Features related to the houses.\n",
    "# There are no categorical variables.\n",
    "\n",
    "def load_dataset():\n",
    "    reg_x, reg_y = load_boston(return_X_y = True)\n",
    "    reg_data = np.concatenate((reg_x, np.array(reg_y).reshape(-1, 1)), axis = 1)\n",
    "    cols = [\"feature\"+str(i) for i in range(1, 14)]\n",
    "    cols = cols + [\"price(target)\"]\n",
    "    reg_dataset = pd.DataFrame(data = reg_data, columns = cols)\n",
    "\n",
    "    return reg_dataset\n",
    "\n",
    "reg_dataset = load_dataset()\n",
    "print(\"REGRESSION DATASET : \\n\", reg_dataset)"
   ]
  },
  {
   "cell_type": "markdown",
   "metadata": {
    "id": "ik2zgN9zgVn3"
   },
   "source": [
    "## SPLITTING INTO TRAIN AND TEST SET\n",
    "\n",
    "We will divide the dataset into train and test set in the ratio 8:2.\n",
    "Sklearn's built-in function \"train_test_split\" is supposed to be used.\n",
    "\n",
    "eg:- train_x, test_x, train_y, test_y = train_test_split(x, y, test_size = k, random_state = integer)  where k is a floating point number between 0 and 1. The number signifies the fraction of dataset to be given to the test dataset.\n",
    "\n",
    "**NOTE**: Use random_state = 40 for evaluation purposes\n",
    "\n",
    "Confirm that your training and test set are correctly alloted by checking with the number of samples in each."
   ]
  },
  {
   "cell_type": "code",
   "execution_count": 5,
   "metadata": {
    "id": "CYYB4xzxzfdz"
   },
   "outputs": [],
   "source": [
    "# DIVIDE THE DATASET INTO TRAINING AND TEST SET\n",
    "# Use \"train_test_split\" from sklearn to split the dataset into 8:2 ratio.\n",
    "# TRAINING SET SIZE : TEST SET SIZE = 8 : 2\n",
    "# NOTE: USE \"random_state = 40\" WHILE SPLITTING. OTHERWISE EVALUATION MIGHT BE WRONG\n",
    "\n",
    "# START YOUR CODE HERE\n",
    "X = reg_dataset.drop([\"price(target)\"],axis=1)\n",
    "y = reg_dataset[\"price(target)\"]\n",
    "train_X, test_X, train_y, test_y = train_test_split(X,y, test_size = 0.2, random_state = 40)\n",
    "# END YOUR CODE HERE"
   ]
  },
  {
   "cell_type": "markdown",
   "metadata": {
    "id": "q8SuUYrbH4ZD"
   },
   "source": [
    "## QUESTIONS:\n",
    "The first part of the assignment focuses on Linear Regression Models and the second part focuses on Decision Tree models.\n",
    "\n",
    "Places where you need to write your code have been indicated. Some parameters have been fixed for evaluation purposes. Be careful not to change them."
   ]
  },
  {
   "cell_type": "markdown",
   "metadata": {
    "id": "954KWjs0rHkC"
   },
   "source": [
    "#### **BAGGING WITH LINEAR REGRESSION MODELS**"
   ]
  },
  {
   "cell_type": "markdown",
   "metadata": {
    "id": "gmZGRqKnhlGT"
   },
   "source": [
    "### **QUESTION 1**: Fit a Linear Regression model on  randomly sampled (with replacement) training data and assign the mean squared error of the predictions on the test set to ans[0]. (1 mark).\n",
    "**NOTE**: You can use the mean squared error from sklearn which has been imported above for you.\n",
    "\n",
    "**NOTE**: While randomly sampling we need to select 404 training samples but not all of them need to be unique.\n",
    "\n",
    "**HINT**: mse = mean_squared_error(y_true, y_pred) where the mean squared error gets stored in the variable mse.\n",
    "\n",
    "**HINT**: df.iloc[[0, 2, 0, 4], 1] selects the 1st, 3rd, 1st and 5th data sample(row) from the df DataFrame."
   ]
  },
  {
   "cell_type": "code",
   "execution_count": 6,
   "metadata": {
    "id": "UkQLqfLFZkiF"
   },
   "outputs": [],
   "source": [
    "# SOME PART OF THE CODE HAS BEEN WRITTEN FOR YOU. DO NOT CHANGE THEM OTHERWISE IT MIGHT BE WRONGLY EVALUATED.\n",
    "# THE DATA SAMPLES HAVE BEEN SELECTED FOR YOU FOR EVALUATION PURPOSES.\n",
    "\n",
    "\n",
    "linreg1 = LinearRegression()                 # 1st Linear Regression Model for you to use\n",
    "row_index = random_generator(1, 0, 404, 404) # Row indexes that you need to fit your model on. Do not change it.\n",
    "\n",
    "# Try to print row_index to understand what \"randomly sampled with replacement means\"\n",
    "\n",
    "# START YOUR CODE HERE:\n",
    "\n",
    "linreg1.fit(X.iloc[row_index],y.iloc[row_index])\n",
    "pred_1 = linreg1.predict(test_X)\n",
    "mse_1 = mean_squared_error(test_y,pred_1)\n",
    "\n",
    "# END YOUR CODE HERE\n"
   ]
  },
  {
   "cell_type": "code",
   "execution_count": 7,
   "metadata": {
    "id": "QkwQhqgOkuT_"
   },
   "outputs": [],
   "source": [
    "# SUBSTITUTE YOUR ANSWER IN PLACE OF None\n",
    "\n",
    "ans[0] = mse_1"
   ]
  },
  {
   "cell_type": "markdown",
   "metadata": {
    "id": "oArkbM4fj4cW"
   },
   "source": [
    "### **QUESTION 2**: Fit a second linear Regression model on new randomly sampled (with replacement) training data and assign the mean squared error of the average of the predictions of the two linear regression models on the test set to ans[1]. (1 mark)\n",
    "eg:- If for a particular data point, model1 predicts 20.0 and model2 predicts 30.0 then the final prediction should be 25.0.\n",
    "\n",
    "**WARNING**: The question asks for the mean squared error of the predictions and not the predictions themselves."
   ]
  },
  {
   "cell_type": "code",
   "execution_count": 8,
   "metadata": {
    "id": "ALm_gV2TbL9d"
   },
   "outputs": [],
   "source": [
    "# SOME PART OF THE CODE HAS BEEN WRITTEN FOR YOU. DO NOT CHANGE WHERE NOT INDICATED.\n",
    "# THE DATA SAMPLES HAVE BEEN SELECTED FOR YOU\n",
    "\n",
    "linreg2 = LinearRegression()                   # 2nd Linear Regression Model\n",
    "row_index = random_generator(3, 0, 404, 404)   # Row indexes that you need to fit your model on. Do not change it.\n",
    "\n",
    "# Use the previous linear regression model (linreg1) as your first model. You have already trained your linreg1 so \n",
    "# you do not need to do that again. The final predictions would be the average of the predictions of these two models.\n",
    "\n",
    "# START YOUR CODE HERE:\n",
    "\n",
    "linreg2.fit(X.iloc[row_index],y.iloc[row_index])\n",
    "pred_2 = linreg2.predict(test_X)\n",
    "pred_mean=(pred_1+pred_2)/2.0\n",
    "mse_2 = mean_squared_error(test_y,pred_mean)\n",
    "\n",
    "# END YOUR CODE HERE"
   ]
  },
  {
   "cell_type": "code",
   "execution_count": 9,
   "metadata": {
    "id": "xOszhR9qoh0F"
   },
   "outputs": [],
   "source": [
    "# SUBSTITUTE YOUR ANSWER IN PLACE OF None\n",
    "\n",
    "ans[1] = mse_2"
   ]
  },
  {
   "cell_type": "markdown",
   "metadata": {
    "id": "uXnpab3BkvQe"
   },
   "source": [
    "Did the combined predictions have a lower mean squared error compared to the individual mean squared errors of the two models?"
   ]
  },
  {
   "cell_type": "markdown",
   "metadata": {
    "id": "xPKf7txfk9zj"
   },
   "source": [
    "### **QUESTION 3**: Fit a third linear Regression model on  new randomly sampled (with replacement) training data and assign the mean squared error of the average of the predictions  of the three linear regression models on the test set to ans[2].    (2 marks)\n",
    "eg:- If for a particular data point, model1 predicts 20.0, model2 predicts 30.0 and model3 predicts 70.0 then the final prediction should be (20.0+30.0+70.0)/3 = 60.0.\n",
    "\n",
    "**WARNING**: The question asks for the mean squared error of the predictions and not the predictions themselves."
   ]
  },
  {
   "cell_type": "code",
   "execution_count": 10,
   "metadata": {
    "id": "pTqKefc4WPGj"
   },
   "outputs": [],
   "source": [
    "# SOME PART OF THE CODE HAS BEEN WRITTEN FOR YOU. DO NOT CHANGE WHERE NOT INDICATED.\n",
    "# THE DATA SAMPLES HAVE BEEN SELECTED FOR YOU\n",
    "\n",
    "linreg3 = LinearRegression()                  # 3rd Linear Regression Model\n",
    "row_index = random_generator(5, 0, 404, 404)      # Row indexes that you need to fit your model on. Do not change it.\n",
    "\n",
    "# linreg1, linreg2 and linreg3 would be your 3 models. You have already fitted linreg1 and linreg2 so you do not need to \n",
    "# train them again.\n",
    "\n",
    "# START YOUR CODE HERE:. \n",
    "\n",
    "linreg3.fit(X.iloc[row_index],y.iloc[row_index])\n",
    "pred_3 = linreg3.predict(test_X)\n",
    "pred_mean=(pred_1+pred_2+pred_3)/3.0\n",
    "mse_3 = mean_squared_error(test_y,pred_mean)\n",
    "\n",
    "# END YOUR CODE HERE"
   ]
  },
  {
   "cell_type": "code",
   "execution_count": 11,
   "metadata": {
    "id": "StsvpP6Ur-Gz"
   },
   "outputs": [],
   "source": [
    "# SUBSTITUTE YOUR ANSWER IN PLACE OF None\n",
    "\n",
    "ans[2] = mse_3"
   ]
  },
  {
   "cell_type": "markdown",
   "metadata": {
    "id": "-ZwqG5Yumz6W"
   },
   "source": [
    "Did the mean squared error of the averaged predictions (ensembled predictions) reduced further? Is it less than the individual mean squared errors of the models?"
   ]
  },
  {
   "cell_type": "markdown",
   "metadata": {
    "id": "mnV4AbeBnC14"
   },
   "source": [
    "### **QUESTION 4**: Fit a fourth linear Regression model on new randomly sampled training data and assign the mean squared error of the average of the predictions of the four linear regression models on the test set to ans[3]. (1 mark)\n",
    "**WARNING**; The question asks for the mean squared error of the predictions and not the predictions themselves."
   ]
  },
  {
   "cell_type": "code",
   "execution_count": 12,
   "metadata": {
    "id": "IaAHQn_6_sHQ"
   },
   "outputs": [],
   "source": [
    "# SOME PART OF THE CODE HAS BEEN WRITTEN FOR YOU. DO NOT CHANGE WHERE NOT INDICATED.\n",
    "# THE DATA SAMPLES HAVE BEEN SELECTED FOR YOU\n",
    "\n",
    "linreg4 = LinearRegression()                  # 3rd Linear Regression Model\n",
    "row_index = random_generator(7, 0, 404, 404)    # Row indexes that you need to fit your model on. Do not change it.\n",
    "\n",
    "# Use the previous 3 models(linreg1, linreg2, linreg3) and do not train them again.\n",
    "\n",
    "# START YOUR CODE HERE:. \n",
    "\n",
    "linreg4.fit(X.iloc[row_index],y.iloc[row_index])\n",
    "pred_4 = linreg4.predict(test_X)\n",
    "pred_mean=(pred_1+pred_2+pred_3+pred_4)/4.0\n",
    "mse_4 = mean_squared_error(test_y,pred_mean)\n",
    "\n",
    "# END YOUR CODE HERE"
   ]
  },
  {
   "cell_type": "code",
   "execution_count": 13,
   "metadata": {
    "id": "ED44sOCVAAuI"
   },
   "outputs": [],
   "source": [
    "# SUBSTITUTE YOUR ANSWER IN PLACE OF None\n",
    "\n",
    "ans[3] = mse_4"
   ]
  },
  {
   "cell_type": "markdown",
   "metadata": {
    "id": "jVulVpHnoHVV"
   },
   "source": [
    "Did the mean squared error reduce this time as well? If not, then why?\n",
    "\n",
    "So the final error depends also on how good the individual models are. Let's look at how a large number of models perform together."
   ]
  },
  {
   "cell_type": "markdown",
   "metadata": {
    "id": "YfWURQ2spgk5"
   },
   "source": [
    "### **QUESTION 5**: Fit 50 linear Regression models on randomly sampled training data (new random sampling for each model) and assign the mean squared error of the average of the predictions of the 50 linear regression models on the test set to ans[4]. (2 marks)\n",
    "eg:- If model1 predicts y1, model2 predicts y2 and so on till y50, then final prediction would be (y1+y2+...+y50)/50.\n",
    "\n",
    "**WARNING**; The question asks for the mean squared error of the predictions and not the predictions themselves."
   ]
  },
  {
   "cell_type": "code",
   "execution_count": 14,
   "metadata": {
    "id": "CkdyOmy4AG7U"
   },
   "outputs": [
    {
     "name": "stdout",
     "output_type": "stream",
     "text": [
      "36.19928109779372\n"
     ]
    }
   ],
   "source": [
    "# SOME PART OF THE CODE HAS BEEN WRITTEN FOR YOU. DO NOT CHANGE WHERE NOT INDICATED.\n",
    "# FEEL FREE TO USE MORE CELLS FOR YOUR CODE.\n",
    "# THE DATA SAMPLES HAVE BEEN SELECTED FOR YOU\n",
    "# HINT: You can add the predictions in a for loop.\n",
    "\n",
    "n = 50                                           # 50 Linear Regression models \n",
    "train_preds = 0\n",
    "test_preds = 0\n",
    "mse_track=[]\n",
    "np.random.seed(10)                               # Used for consistent answers for evaluation purposes\n",
    "subset_seed = random_generator(10, 0, 200, n)\n",
    "y_pred=0\n",
    "for i in range(n):\n",
    "    np.random.seed(subset_seed[i])                            # Used for consistent answers for evaluation purposes\n",
    "    row_index = random_generator(subset_seed[i], 0, 404, 404) # Row indexes that you need to fit your model on. Do not change it.\n",
    "    \n",
    "  # START YOUR CODE HERE:\n",
    "    linreg = LinearRegression()                \n",
    "    \n",
    "    X_new=train_X.iloc[row_index,:]\n",
    "    y_new=train_y.iloc[row_index]\n",
    "\n",
    "    linreg.fit(X_new,y_new)\n",
    "    y_pred+=linreg.predict(test_X)\n",
    "    temp=y_pred/(i+1)\n",
    "    mse_temp = mean_squared_error(test_y,temp)\n",
    "    mse_track.append(mse_temp)\n",
    "    \n",
    "    \n",
    "fin_y_pred=y_pred/50\n",
    "mse=mean_squared_error(test_y,fin_y_pred)\n",
    "print(mse)\n",
    "\n",
    "  # END YOUR CODE HERE"
   ]
  },
  {
   "cell_type": "code",
   "execution_count": 15,
   "metadata": {
    "id": "VdnNvKphAHAO"
   },
   "outputs": [],
   "source": [
    "# SUBSTITUTE YOUR ANSWER IN PLACE OF None\n",
    "\n",
    "ans[4] = mse"
   ]
  },
  {
   "cell_type": "markdown",
   "metadata": {
    "id": "NDvLAI-hqQb2"
   },
   "source": [
    "Is it lower than the previous mean squared errors? \n",
    "If yes, does it go down till 0? To check that try plotting the test mean squared error vs no of linear regression models used.\n",
    "\n",
    "Some of the matplotlib code has been written for you."
   ]
  },
  {
   "cell_type": "markdown",
   "metadata": {
    "id": "olb6n0TmuB_z"
   },
   "source": [
    "#### PLOTTING TEST MSE VS NUM OF MODELS USED"
   ]
  },
  {
   "cell_type": "code",
   "execution_count": 16,
   "metadata": {
    "id": "er4isr2XAG9p"
   },
   "outputs": [
    {
     "data": {
      "image/png": "[encoded data removed]",
      "text/plain": [
       "<Figure size 432x288 with 1 Axes>"
      ]
     },
     "metadata": {
      "needs_background": "light"
     },
     "output_type": "display_data"
    }
   ],
   "source": [
    "# num_models : list of the number of models\n",
    "# test_mse : list of the corresponding test mean squared error\n",
    "\n",
    "num_models = [i for i in range(1,50+1)]        # remember to replace it with your number of models used\n",
    "test_mse = mse_track          # remember to replace it with your test mean square errors\n",
    "\n",
    "plt.plot(num_models, test_mse, c = \"b\", label = \"Test Mean Squared Error\")\n",
    "plt.xlabel(\"Number of Linear Regression Models\")\n",
    "plt.legend()\n",
    "plt.ylabel(\"Mean Squared Error\")\n",
    "plt.title(\"Mean Squared Error vs Num of Linear Regression Models\")\n",
    "plt.gca().set_xlim(left = 0)\n",
    "plt.show()"
   ]
  },
  {
   "cell_type": "markdown",
   "metadata": {
    "id": "G4PSn4C1qu8Z"
   },
   "source": [
    "Can you justify why bagging helps?\n",
    "If there is slight dip in the test mse curve (i.e it does not saturate at its lowest point) can you explain why is it?\n",
    "\n",
    "**HINT**: You can also try plotting the mean sqaured error of the predictions on the _WHOLE_ training set to gather more insight."
   ]
  },
  {
   "cell_type": "markdown",
   "metadata": {
    "id": "sJFnnptfrQiV"
   },
   "source": [
    "#### **BAGGING WITH DECISION TREE MODELS**"
   ]
  },
  {
   "cell_type": "markdown",
   "metadata": {
    "id": "2nj1soMPrbsy"
   },
   "source": [
    "### **QUESTION 6**: Fit a single DecisionTree Regression model on randomly sampled(with replacement) training data and assign the mean squared error of the predictions on the test set to ans[5]. (1 mark)"
   ]
  },
  {
   "cell_type": "code",
   "execution_count": 17,
   "metadata": {
    "id": "ztDG1UjD1D60"
   },
   "outputs": [],
   "source": [
    "# SOME PART OF THE CODE HAS BEEN WRITTEN FOR YOU. DO NOT MAKE CHANGES WHERE NOT INDICATED.\n",
    "# THE DATA SAMPLES HAVE BEEN SELECTED FOR YOU.\n",
    "\n",
    "dt1 = DecisionTreeRegressor(max_depth = 3, random_state = 10)    # Decision tree that you have to use. Don't change parameters.\n",
    "row_index = random_generator(8, 0, 404, 404)                     # Row indexes that you need to fit your model on. Do not change it.\n",
    " \n",
    "# START YOUR CODE HERE:. \n",
    "\n",
    "dt1.fit(X.iloc[row_index],y.iloc[row_index])\n",
    "pred_6 = dt1.predict(test_X)\n",
    "mse_6 = mean_squared_error(test_y,pred_6)\n",
    "\n",
    "# END YOUR CODE HERE"
   ]
  },
  {
   "cell_type": "code",
   "execution_count": 18,
   "metadata": {
    "id": "Lf_P5m3M2a7s"
   },
   "outputs": [],
   "source": [
    "# SUBSTITUTE YOUR ANSWER IN PLACE OF None\n",
    "\n",
    "ans[5] = mse_6"
   ]
  },
  {
   "cell_type": "markdown",
   "metadata": {
    "id": "13JGpdIwsdIP"
   },
   "source": [
    "### **QUESTION 7**: Train and fit 50 Decision Trees on randomly sampled training data (new random sampling for each decision tree) and assign the mean squared error of the average of all predictions on the test set to ans[6]. (2 marks)\n",
    "eg:- If model1 predicts y1, model2 predicts y2 and so on till y50, then final prediction would be (y1+y2+...+y50)/50.\n",
    "\n",
    "**WARNING**: The question asks for the mean squared error and not the final prediction."
   ]
  },
  {
   "cell_type": "code",
   "execution_count": 19,
   "metadata": {
    "id": "Tf856N7_W8eg"
   },
   "outputs": [
    {
     "name": "stdout",
     "output_type": "stream",
     "text": [
      "27.455680570885615\n"
     ]
    }
   ],
   "source": [
    "# SOME PART OF THE CODE HAS BEEN WRITTEN FOR YOU. DO NOT MAKE CHANGES WHERE NOT INDICATED.\n",
    "# THE DATA SAMPLE HAS BEEN SELECTED FOR YOU.\n",
    "\n",
    "n = 50\n",
    "train_preds = 0\n",
    "test_preds = 0\n",
    "mse_track=[]\n",
    "np.random.seed(11)                                                  # Used for consistent answers for evaluation purposes.\n",
    "subset_seed = random_generator(9, 0, 200, n)\n",
    "y_pred=0\n",
    "\n",
    "for i in range(n):\n",
    "    row_index = random_generator(subset_seed[i], 0, 404, 404)                     # Row indexes that you need to fit your model on. Do not change it.\n",
    "    dt = DecisionTreeRegressor(max_depth = 3, random_state = 10)      # Decision Tree that you need to use.Don't change parameters.\n",
    "\n",
    "  # START YOUR CODE HERE:\n",
    "    X_new=train_X.iloc[row_index,:]\n",
    "    y_new=train_y.iloc[row_index]\n",
    "\n",
    "    dt1.fit(X_new,y_new)\n",
    "    y_pred+=dt1.predict(test_X)\n",
    "    temp=y_pred/(i+1)\n",
    "    mse_temp=mean_squared_error(test_y,temp)\n",
    "    mse_track.append(mse_temp)\n",
    "\n",
    "\n",
    "y_pred/=50\n",
    "mse=mean_squared_error(test_y,y_pred)\n",
    "print(mse)\n",
    "\n",
    "  # END YOUR CODE HERE"
   ]
  },
  {
   "cell_type": "code",
   "execution_count": 20,
   "metadata": {
    "id": "ZWGQ1JrgjYPD"
   },
   "outputs": [],
   "source": [
    "# SUBSTITUTE YOUR ANSWER IN PLACE OF None\n",
    "\n",
    "ans[6] = mse"
   ]
  },
  {
   "cell_type": "markdown",
   "metadata": {
    "id": "zXi-uVyNtLMR"
   },
   "source": [
    "Try to plot the test mean squared error vs the num of decision trees used for that prediction. The graph should be similar to the Linear Regression graph. \n",
    "\n",
    "You can also try to plot the mean squared error of the predictions on the _WHOLE_ training dataset to gain more insight.\n",
    "\n",
    "Some of the matplotlib code has been written for you."
   ]
  },
  {
   "cell_type": "markdown",
   "metadata": {
    "id": "ijXWHiyDt7f7"
   },
   "source": [
    "#### PLOTTING THE TEST MSE VS NUM OF DECISION TREES"
   ]
  },
  {
   "cell_type": "code",
   "execution_count": 21,
   "metadata": {
    "id": "hfyVl6W3SoWZ"
   },
   "outputs": [
    {
     "data": {
      "image/png": "[encoded data removed]",
      "text/plain": [
       "<Figure size 432x288 with 1 Axes>"
      ]
     },
     "metadata": {
      "needs_background": "light"
     },
     "output_type": "display_data"
    }
   ],
   "source": [
    "# num_trees : list of the number of trees\n",
    "# test_mse : list of the corresponding test mean squared error\n",
    "\n",
    "num_trees = [i for i in range(1,50+1)]         # remember to replace it with your implemented code\n",
    "test_mse = mse_track          # remember to replace it with your implemented code\n",
    "\n",
    "plt.plot(num_trees, test_mse, c = \"b\", label = \"Test Mean Squared Error\")\n",
    "plt.xlabel(\"Number of Linear Regression Models\")\n",
    "plt.legend()\n",
    "plt.ylabel(\"Mean Squared Error\")\n",
    "plt.title(\"Mean Squared Error vs Num of Linear Regression Models\")\n",
    "plt.gca().set_xlim(left = 0)\n",
    "plt.show()"
   ]
  },
  {
   "cell_type": "markdown",
   "metadata": {
    "id": "bxdkZl-ltxf-"
   },
   "source": [
    "Did the Decision Tree Perform better or the Linear Regression Model?\n",
    "\n",
    "Was there a dip in the test mean squared error in the Decision Trees?\n",
    "\n",
    "Keep the test mean square error in mind for the next assignment where we will tweak the decision tree model a bit to arrive at a very popular model called Random Forest model."
   ]
  },
  {
   "cell_type": "code",
   "execution_count": 24,
   "metadata": {
    "id": "8rd4vNkMUlCn"
   },
   "outputs": [],
   "source": [
    "import json\n",
    "ans = [str(item) for item in ans]\n",
    "\n",
    "filename = \"group26_Umang_Pandey_Bagging\"\n",
    "\n",
    "# Eg if your name is Saurav Joshi and group id is 0, filename becomes\n",
    "# filename = group0_Saurav_Joshi_Bagging"
   ]
  },
  {
   "cell_type": "markdown",
   "metadata": {
    "id": "PPfsGXKVOWH3"
   },
   "source": [
    "## Do not change anything below!!\n",
    "- Make sure you have changed the above variable \"filename\" with the correct value. Do not change anything below!!"
   ]
  },
  {
   "cell_type": "code",
   "execution_count": 23,
   "metadata": {
    "id": "tSJAs8nLd-6f"
   },
   "outputs": [
    {
     "ename": "ModuleNotFoundError",
     "evalue": "No module named 'findScore'",
     "output_type": "error",
     "traceback": [
      "\u001b[1;31m---------------------------------------------------------------------------\u001b[0m",
      "\u001b[1;31mModuleNotFoundError\u001b[0m                       Traceback (most recent call last)",
      "\u001b[1;32m<ipython-input-23-0a1891ccbb16>\u001b[0m in \u001b[0;36m<module>\u001b[1;34m\u001b[0m\n\u001b[0;32m      3\u001b[0m \u001b[1;32mfrom\u001b[0m \u001b[0mpprint\u001b[0m \u001b[1;32mimport\u001b[0m \u001b[0mpprint\u001b[0m\u001b[1;33m\u001b[0m\u001b[1;33m\u001b[0m\u001b[0m\n\u001b[0;32m      4\u001b[0m \u001b[1;33m\u001b[0m\u001b[0m\n\u001b[1;32m----> 5\u001b[1;33m \u001b[0mfindScore\u001b[0m \u001b[1;33m=\u001b[0m \u001b[0mimport_module\u001b[0m\u001b[1;33m(\u001b[0m\u001b[1;34m'findScore'\u001b[0m\u001b[1;33m)\u001b[0m\u001b[1;33m\u001b[0m\u001b[1;33m\u001b[0m\u001b[0m\n\u001b[0m\u001b[0;32m      6\u001b[0m \u001b[0mresponse\u001b[0m \u001b[1;33m=\u001b[0m \u001b[0mfindScore\u001b[0m\u001b[1;33m.\u001b[0m\u001b[0mmain\u001b[0m\u001b[1;33m(\u001b[0m\u001b[0mans\u001b[0m\u001b[1;33m)\u001b[0m\u001b[1;33m\u001b[0m\u001b[1;33m\u001b[0m\u001b[0m\n\u001b[0;32m      7\u001b[0m \u001b[0mresponse\u001b[0m\u001b[1;33m[\u001b[0m\u001b[1;34m'details'\u001b[0m\u001b[1;33m]\u001b[0m \u001b[1;33m=\u001b[0m \u001b[0mfilename\u001b[0m\u001b[1;33m\u001b[0m\u001b[1;33m\u001b[0m\u001b[0m\n",
      "\u001b[1;32m~\\anaconda3\\lib\\importlib\\__init__.py\u001b[0m in \u001b[0;36mimport_module\u001b[1;34m(name, package)\u001b[0m\n\u001b[0;32m    125\u001b[0m                 \u001b[1;32mbreak\u001b[0m\u001b[1;33m\u001b[0m\u001b[1;33m\u001b[0m\u001b[0m\n\u001b[0;32m    126\u001b[0m             \u001b[0mlevel\u001b[0m \u001b[1;33m+=\u001b[0m \u001b[1;36m1\u001b[0m\u001b[1;33m\u001b[0m\u001b[1;33m\u001b[0m\u001b[0m\n\u001b[1;32m--> 127\u001b[1;33m     \u001b[1;32mreturn\u001b[0m \u001b[0m_bootstrap\u001b[0m\u001b[1;33m.\u001b[0m\u001b[0m_gcd_import\u001b[0m\u001b[1;33m(\u001b[0m\u001b[0mname\u001b[0m\u001b[1;33m[\u001b[0m\u001b[0mlevel\u001b[0m\u001b[1;33m:\u001b[0m\u001b[1;33m]\u001b[0m\u001b[1;33m,\u001b[0m \u001b[0mpackage\u001b[0m\u001b[1;33m,\u001b[0m \u001b[0mlevel\u001b[0m\u001b[1;33m)\u001b[0m\u001b[1;33m\u001b[0m\u001b[1;33m\u001b[0m\u001b[0m\n\u001b[0m\u001b[0;32m    128\u001b[0m \u001b[1;33m\u001b[0m\u001b[0m\n\u001b[0;32m    129\u001b[0m \u001b[1;33m\u001b[0m\u001b[0m\n",
      "\u001b[1;32m~\\anaconda3\\lib\\importlib\\_bootstrap.py\u001b[0m in \u001b[0;36m_gcd_import\u001b[1;34m(name, package, level)\u001b[0m\n",
      "\u001b[1;32m~\\anaconda3\\lib\\importlib\\_bootstrap.py\u001b[0m in \u001b[0;36m_find_and_load\u001b[1;34m(name, import_)\u001b[0m\n",
      "\u001b[1;32m~\\anaconda3\\lib\\importlib\\_bootstrap.py\u001b[0m in \u001b[0;36m_find_and_load_unlocked\u001b[1;34m(name, import_)\u001b[0m\n",
      "\u001b[1;31mModuleNotFoundError\u001b[0m: No module named 'findScore'"
     ]
    }
   ],
   "source": [
    "from importlib import import_module\n",
    "import os\n",
    "from pprint import pprint\n",
    "\n",
    "findScore = import_module('findScore')\n",
    "response = findScore.main(ans)\n",
    "response['details'] = filename\n",
    "with open(f'evaluation_{filename}.json', 'w') as outfile:\n",
    "    json.dump(response, outfile)\n",
    "pprint(response)"
   ]
  }
 ],
 "metadata": {
  "colab": {
   "collapsed_sections": [],
   "name": "group0_Saurav_Joshi_Bagging.ipynb",
   "provenance": []
  },
  "kernelspec": {
   "display_name": "Python 3",
   "language": "python",
   "name": "python3"
  },
  "language_info": {
   "codemirror_mode": {
    "name": "ipython",
    "version": 3
   },
   "file_extension": ".py",
   "mimetype": "text/x-python",
   "name": "python",
   "nbconvert_exporter": "python",
   "pygments_lexer": "ipython3",
   "version": "3.7.6"
  }
 },
 "nbformat": 4,
 "nbformat_minor": 1
}
