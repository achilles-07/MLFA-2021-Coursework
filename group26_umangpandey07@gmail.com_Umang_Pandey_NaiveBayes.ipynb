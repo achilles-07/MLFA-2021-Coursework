{
 "cells": [
  {
   "cell_type": "code",
   "execution_count": 1,
   "metadata": {
    "id": "NK2atPeSSb4X"
   },
   "outputs": [],
   "source": [
    "# Do not make any changes in this cell\n",
    "# Simply execute it and move on\n",
    "\n",
    "import pandas as pd  \n",
    "import numpy as np \n",
    "import matplotlib.pyplot as plt\n",
    "import json\n",
    "ans = [0]*8"
   ]
  },
  {
   "cell_type": "code",
   "execution_count": 2,
   "metadata": {
    "id": "Rkzprys5Ssux"
   },
   "outputs": [
    {
     "data": {
      "text/html": [
       "<div>\n",
       "<style scoped>\n",
       "    .dataframe tbody tr th:only-of-type {\n",
       "        vertical-align: middle;\n",
       "    }\n",
       "\n",
       "    .dataframe tbody tr th {\n",
       "        vertical-align: top;\n",
       "    }\n",
       "\n",
       "    .dataframe thead th {\n",
       "        text-align: right;\n",
       "    }\n",
       "</style>\n",
       "<table border=\"1\" class=\"dataframe\">\n",
       "  <thead>\n",
       "    <tr style=\"text-align: right;\">\n",
       "      <th></th>\n",
       "      <th>age</th>\n",
       "      <th>sex</th>\n",
       "      <th>cp</th>\n",
       "      <th>fbs</th>\n",
       "      <th>restecg</th>\n",
       "      <th>exang</th>\n",
       "      <th>slope</th>\n",
       "      <th>ca</th>\n",
       "      <th>thal</th>\n",
       "      <th>target</th>\n",
       "    </tr>\n",
       "  </thead>\n",
       "  <tbody>\n",
       "    <tr>\n",
       "      <th>count</th>\n",
       "      <td>303.000000</td>\n",
       "      <td>303.000000</td>\n",
       "      <td>303.000000</td>\n",
       "      <td>303.000000</td>\n",
       "      <td>303.000000</td>\n",
       "      <td>303.000000</td>\n",
       "      <td>303.000000</td>\n",
       "      <td>303.000000</td>\n",
       "      <td>303.000000</td>\n",
       "      <td>303.000000</td>\n",
       "    </tr>\n",
       "    <tr>\n",
       "      <th>mean</th>\n",
       "      <td>54.366337</td>\n",
       "      <td>0.683168</td>\n",
       "      <td>0.966997</td>\n",
       "      <td>0.148515</td>\n",
       "      <td>0.528053</td>\n",
       "      <td>0.326733</td>\n",
       "      <td>1.399340</td>\n",
       "      <td>0.729373</td>\n",
       "      <td>2.313531</td>\n",
       "      <td>0.544554</td>\n",
       "    </tr>\n",
       "    <tr>\n",
       "      <th>std</th>\n",
       "      <td>9.082101</td>\n",
       "      <td>0.466011</td>\n",
       "      <td>1.032052</td>\n",
       "      <td>0.356198</td>\n",
       "      <td>0.525860</td>\n",
       "      <td>0.469794</td>\n",
       "      <td>0.616226</td>\n",
       "      <td>1.022606</td>\n",
       "      <td>0.612277</td>\n",
       "      <td>0.498835</td>\n",
       "    </tr>\n",
       "    <tr>\n",
       "      <th>min</th>\n",
       "      <td>29.000000</td>\n",
       "      <td>0.000000</td>\n",
       "      <td>0.000000</td>\n",
       "      <td>0.000000</td>\n",
       "      <td>0.000000</td>\n",
       "      <td>0.000000</td>\n",
       "      <td>0.000000</td>\n",
       "      <td>0.000000</td>\n",
       "      <td>0.000000</td>\n",
       "      <td>0.000000</td>\n",
       "    </tr>\n",
       "    <tr>\n",
       "      <th>25%</th>\n",
       "      <td>47.500000</td>\n",
       "      <td>0.000000</td>\n",
       "      <td>0.000000</td>\n",
       "      <td>0.000000</td>\n",
       "      <td>0.000000</td>\n",
       "      <td>0.000000</td>\n",
       "      <td>1.000000</td>\n",
       "      <td>0.000000</td>\n",
       "      <td>2.000000</td>\n",
       "      <td>0.000000</td>\n",
       "    </tr>\n",
       "    <tr>\n",
       "      <th>50%</th>\n",
       "      <td>55.000000</td>\n",
       "      <td>1.000000</td>\n",
       "      <td>1.000000</td>\n",
       "      <td>0.000000</td>\n",
       "      <td>1.000000</td>\n",
       "      <td>0.000000</td>\n",
       "      <td>1.000000</td>\n",
       "      <td>0.000000</td>\n",
       "      <td>2.000000</td>\n",
       "      <td>1.000000</td>\n",
       "    </tr>\n",
       "    <tr>\n",
       "      <th>75%</th>\n",
       "      <td>61.000000</td>\n",
       "      <td>1.000000</td>\n",
       "      <td>2.000000</td>\n",
       "      <td>0.000000</td>\n",
       "      <td>1.000000</td>\n",
       "      <td>1.000000</td>\n",
       "      <td>2.000000</td>\n",
       "      <td>1.000000</td>\n",
       "      <td>3.000000</td>\n",
       "      <td>1.000000</td>\n",
       "    </tr>\n",
       "    <tr>\n",
       "      <th>max</th>\n",
       "      <td>77.000000</td>\n",
       "      <td>1.000000</td>\n",
       "      <td>3.000000</td>\n",
       "      <td>1.000000</td>\n",
       "      <td>2.000000</td>\n",
       "      <td>1.000000</td>\n",
       "      <td>2.000000</td>\n",
       "      <td>4.000000</td>\n",
       "      <td>3.000000</td>\n",
       "      <td>1.000000</td>\n",
       "    </tr>\n",
       "  </tbody>\n",
       "</table>\n",
       "</div>"
      ],
      "text/plain": [
       "              age         sex          cp         fbs     restecg       exang  \\\n",
       "count  303.000000  303.000000  303.000000  303.000000  303.000000  303.000000   \n",
       "mean    54.366337    0.683168    0.966997    0.148515    0.528053    0.326733   \n",
       "std      9.082101    0.466011    1.032052    0.356198    0.525860    0.469794   \n",
       "min     29.000000    0.000000    0.000000    0.000000    0.000000    0.000000   \n",
       "25%     47.500000    0.000000    0.000000    0.000000    0.000000    0.000000   \n",
       "50%     55.000000    1.000000    1.000000    0.000000    1.000000    0.000000   \n",
       "75%     61.000000    1.000000    2.000000    0.000000    1.000000    1.000000   \n",
       "max     77.000000    1.000000    3.000000    1.000000    2.000000    1.000000   \n",
       "\n",
       "            slope          ca        thal      target  \n",
       "count  303.000000  303.000000  303.000000  303.000000  \n",
       "mean     1.399340    0.729373    2.313531    0.544554  \n",
       "std      0.616226    1.022606    0.612277    0.498835  \n",
       "min      0.000000    0.000000    0.000000    0.000000  \n",
       "25%      1.000000    0.000000    2.000000    0.000000  \n",
       "50%      1.000000    0.000000    2.000000    1.000000  \n",
       "75%      2.000000    1.000000    3.000000    1.000000  \n",
       "max      2.000000    4.000000    3.000000    1.000000  "
      ]
     },
     "execution_count": 2,
     "metadata": {},
     "output_type": "execute_result"
    }
   ],
   "source": [
    "# Simply execute this cell and move on\n",
    "\n",
    "#Import the dataset and define the feature as well as the target datasets / columns  \n",
    "dataset = pd.read_csv('heart.csv')  \n",
    "#We drop the 'trestbps','chol','thalach','oldpeak' as they have numerical values  \n",
    "dataset=dataset.drop('trestbps',axis=1) \n",
    "dataset=dataset.drop('chol',axis=1) \n",
    "dataset=dataset.drop('thalach',axis=1) \n",
    "dataset=dataset.drop('oldpeak',axis=1) \n",
    "dataset.describe()"
   ]
  },
  {
   "cell_type": "code",
   "execution_count": 3,
   "metadata": {
    "id": "V7WYWeR3StYr"
   },
   "outputs": [
    {
     "data": {
      "text/plain": [
       "'\\nage\\nsex\\nchest pain type (4 values)\\nresting blood pressure\\nserum cholestoral in mg/dl\\nfasting blood sugar > 120 mg/dl\\nresting electrocardiographic results (values 0,1,2)\\nmaximum heart rate achieved\\nexercise induced angina\\noldpeak = ST depression induced by exercise relative to rest\\nthe slope of the peak exercise ST segment\\nnumber of major vessels (0-3) colored by flourosopy\\nthal: 3 = normal; 6 = fixed defect; 7 = reversable defect\\n'"
      ]
     },
     "execution_count": 3,
     "metadata": {},
     "output_type": "execute_result"
    }
   ],
   "source": [
    "#These are the meanings of above features in the dataset\n",
    "'''\n",
    "age\n",
    "sex\n",
    "chest pain type (4 values)\n",
    "resting blood pressure\n",
    "serum cholestoral in mg/dl\n",
    "fasting blood sugar > 120 mg/dl\n",
    "resting electrocardiographic results (values 0,1,2)\n",
    "maximum heart rate achieved\n",
    "exercise induced angina\n",
    "oldpeak = ST depression induced by exercise relative to rest\n",
    "the slope of the peak exercise ST segment\n",
    "number of major vessels (0-3) colored by flourosopy\n",
    "thal: 3 = normal; 6 = fixed defect; 7 = reversable defect\n",
    "'''"
   ]
  },
  {
   "cell_type": "code",
   "execution_count": 4,
   "metadata": {
    "id": "8ddfRhWRS7vx"
   },
   "outputs": [],
   "source": [
    "# Divide the age feature  into groups \n",
    "# Group the data based on age (<30 , range(30,40) , range(40,50) ,  range(50,60) , range(60,70) , >=70 )\n",
    "#              = [ -1 ,     0        ,     1        ,         2     ,          3   ,   4   ]\n",
    "\n",
    "# Write code here\n",
    "age_group = []\n",
    "for Age in dataset[\"age\"]:\n",
    "    if Age<30:\n",
    "        age_group.append(-1)\n",
    "    elif Age<40:\n",
    "        age_group.append(0)\n",
    "    elif Age<50:\n",
    "        age_group.append(1)\n",
    "    elif Age<60:\n",
    "        age_group.append(2)\n",
    "    elif Age<70:\n",
    "        age_group.append(3)\n",
    "    else:\n",
    "        age_group.append(4)\n",
    "\n",
    "age_group = np.array(age_group)\n",
    "dataset[\"Age_group\"] = age_group"
   ]
  },
  {
   "cell_type": "code",
   "execution_count": 5,
   "metadata": {
    "id": "wGT4FriITDRv"
   },
   "outputs": [],
   "source": [
    "# QUESTION -1 :- (1mark)\n",
    "#       Bayes theorm \n",
    "#       Find the following from the above data set \n",
    "#           - Find P(\"cp\"=1,\"thal\"=2,\"slope\"=2 / Y=1) i.e.find the probability of ( \"cp\"=1 and \"thal\"=2 and \"slope\"=2 ) given that \"target\"=1\n",
    "#       Assign your answer to ans[-1]"
   ]
  },
  {
   "cell_type": "code",
   "execution_count": 6,
   "metadata": {
    "id": "j-S6EAtsTGkp"
   },
   "outputs": [
    {
     "data": {
      "text/plain": [
       "0.1696969696969697"
      ]
     },
     "execution_count": 6,
     "metadata": {},
     "output_type": "execute_result"
    }
   ],
   "source": [
    "#Write code here\n",
    "\n",
    "df1 = dataset[dataset[\"target\"]==1]\n",
    "tot1 = len(df1)\n",
    "fav = len(df1[(df1[\"cp\"]==1) & (df1['thal']==2) & (df1['slope']==2)])\n",
    "prob = fav/tot1\n",
    "prob"
   ]
  },
  {
   "cell_type": "code",
   "execution_count": 7,
   "metadata": {
    "id": "bvqK719GTOKz"
   },
   "outputs": [],
   "source": [
    "#Write your answer here\n",
    "ans[0]=prob"
   ]
  },
  {
   "cell_type": "code",
   "execution_count": 8,
   "metadata": {
    "id": "ir_vfuHsTQdj"
   },
   "outputs": [],
   "source": [
    "# QUESTION -2 :- (1mark)\n",
    "#       Find the prior distribution on the whole above data set , i.e. P(Y=1) and P(Y=0)\n",
    "#       Enter value of P(Y=1) in ans[0]"
   ]
  },
  {
   "cell_type": "code",
   "execution_count": 9,
   "metadata": {
    "id": "G9THBVeKTVxL"
   },
   "outputs": [],
   "source": [
    "# Write your code here\n",
    "#P(Y)\n",
    "#Prior distribution\n",
    "freq1 = len(dataset[dataset[\"target\"]==1])\n",
    "freq0 = len(dataset[dataset[\"target\"]==0])\n",
    "tot = len(dataset)\n",
    "pr1 = freq1/tot\n",
    "pr0 = freq0/tot"
   ]
  },
  {
   "cell_type": "code",
   "execution_count": 10,
   "metadata": {
    "id": "nf4lK5-gTXzn"
   },
   "outputs": [],
   "source": [
    "# Enter your answer here\n",
    "ans[1]= pr1"
   ]
  },
  {
   "cell_type": "code",
   "execution_count": 11,
   "metadata": {
    "id": "8ITQ0S4cTah0"
   },
   "outputs": [],
   "source": [
    "# QUESTION -3:- (3marks)\n",
    "#         Find the class conditional distribution on the above data set i.e. find P(X/Y)\n",
    "#         Note: If class conditional probability = 0 assign 0.00000000000000001 (a low value) \n",
    "#         Find the class conditional probability of the feature \"slope\"= 0,1,2 when \"target\"=0 i.e. \n",
    "# P(X(slope)=i/Y=0) where i=0,1,2\n",
    "#         Assign the answer to ans[1] in form of a list as [P(X(slope)=0/Y=0) , P(X(slope)=1/Y=0) ,\n",
    "# P(X(slope)=2/Y=0)]"
   ]
  },
  {
   "cell_type": "code",
   "execution_count": 12,
   "metadata": {
    "id": "Vy8IWj_wTfVI"
   },
   "outputs": [],
   "source": [
    "#Write your code below\n",
    "#Class conditional distribution\n",
    "#P(x/y)\n",
    "df0 = dataset[dataset[\"target\"]==0]\n",
    "c0 = len(df0[df0[\"slope\"]==0])\n",
    "c1 = len(df0[df0[\"slope\"]==1])\n",
    "c2 = len(df0[df0[\"slope\"]==2])\n",
    "tot0 = len(df0)\n",
    "cc0 = c0/tot0\n",
    "cc1 = c1/tot0\n",
    "cc2 = c2/tot0"
   ]
  },
  {
   "cell_type": "code",
   "execution_count": 13,
   "metadata": {
    "id": "SwGyViZZThMw"
   },
   "outputs": [],
   "source": [
    "\n",
    "# Assign your answer here\n",
    "ans[2]=[cc0,cc1,cc2]"
   ]
  },
  {
   "cell_type": "code",
   "execution_count": 14,
   "metadata": {
    "id": "UhrHktcrToq5"
   },
   "outputs": [],
   "source": [
    "# QUESTION - 4:- (3marks)\n",
    "#         Find the posterior distribution of the above dataset\n",
    "#         i.e. Find P(Y/X) \n",
    "#         For X={\"age\":-1,'sex': 0,'cp':0 ,'fbs':1,'restecg':1,'exang':1,'slope':2,'ca':1,'thal':1}\n",
    "#             - Find the label value (1 or 0) and also the respective confidence also the value of \n",
    "#               k in {  P(Y/X)=k*P(X1/Y)*P(X2/Y)*P(X3/Y)*P(X4/Y)......*P(Xn/Y)*P(Y) for n features   }\n",
    "#         eg: if the answer is Y=0 with confidence =0.89 and k= 2100.8\n",
    "#             your answer should be ans[2]=[0,0.89,2100.8]"
   ]
  },
  {
   "cell_type": "code",
   "execution_count": 15,
   "metadata": {
    "id": "xgvSL0mGTq13"
   },
   "outputs": [
    {
     "name": "stdout",
     "output_type": "stream",
     "text": [
      "9.382776666790429e-17 0.9999999999999998 86583642.22454011\n"
     ]
    }
   ],
   "source": [
    "#Write code here\n",
    "# posterior distribution\n",
    "#P(y/x)\n",
    "X={\"Age_group\":-1,'sex': 0,'cp':0 ,'fbs':1,'restecg':1,'exang':1,'slope':2,'ca':1,'thal':1}\n",
    "\n",
    "# y=0\n",
    "post0 = 1\n",
    "\n",
    "for key in X:\n",
    "    F = len(df0[df0[key]==X[key]])\n",
    "    if F==0:\n",
    "        F = 0.00000000000000001\n",
    "    post0 = post0*(F/tot0)\n",
    "\n",
    "post0 = post0*pr0\n",
    "    \n",
    "# y=1\n",
    "post1 = 1\n",
    "for key in X:\n",
    "    F = len(df1[df1[key]==X[key]])\n",
    "    if F==0:\n",
    "        F = 0.00000000000000001\n",
    "    post1 = post1*(F/tot1)\n",
    "post1 = post1*pr1\n",
    "\n",
    "k = 1/(post0+post1)\n",
    "print(post0*k,post1*k,k)"
   ]
  },
  {
   "cell_type": "code",
   "execution_count": 16,
   "metadata": {
    "id": "wOWQPZ91TxIO"
   },
   "outputs": [],
   "source": [
    "#Write your answers here\n",
    "ans[3]=[1,post1*k,k]"
   ]
  },
  {
   "cell_type": "code",
   "execution_count": 17,
   "metadata": {
    "id": "ObEnKPLzTy_M"
   },
   "outputs": [],
   "source": [
    "# Splitting the data for fitting a library naive bayes model from sklearn\n",
    "# Use train_test_split to split the data\n",
    "\n",
    "# Split the data into train and test (train-90% and test-10%)\n",
    "# Strictly use (randon_state = 42) in train_test_split ,so that your answer can be evaluated\n",
    "\n",
    "# Write your code here \n",
    "from sklearn.model_selection import train_test_split\n",
    "df_new = dataset.drop(labels = \"target\",axis = 1)\n",
    "X_train, X_test, y_train, y_test = train_test_split(df_new, dataset[\"target\"], test_size=0.1, random_state=42)"
   ]
  },
  {
   "cell_type": "code",
   "execution_count": 18,
   "metadata": {
    "id": "MfGPAaQIUOqR"
   },
   "outputs": [],
   "source": [
    "# QUESTION - 5 :- (2marks)\n",
    "#         Import the  GaussianNB  model from sklearn and find the no of wrong predictions on the testing set\n",
    "# i.e. train and fit the model on the training set and predict the output if the heart disease exists or not \n",
    "#         Compare the predicted and the testing labels and enter the no.of wrongly predicted lables in ans[3]"
   ]
  },
  {
   "cell_type": "code",
   "execution_count": 19,
   "metadata": {
    "id": "C28MlyRXUSX0",
    "scrolled": true
   },
   "outputs": [
    {
     "name": "stdout",
     "output_type": "stream",
     "text": [
      "7\n"
     ]
    }
   ],
   "source": [
    "#Importing the Gaussian naive bayes classifier model from sklearn\n",
    "\n",
    "from sklearn.naive_bayes import GaussianNB\n",
    "\n",
    "#Write your code below\n",
    "nb = GaussianNB()\n",
    "nb.fit(X_train,y_train)\n",
    "y_hat = nb.predict(X_test)\n",
    "\n",
    "error = 0\n",
    "for i in range(len(y_test)):\n",
    "    if y_test.iloc[i]!=y_hat[i]:\n",
    "        error+=1\n",
    "#     print(y_test.iloc[i],y_hat[i])\n",
    "print(error)\n",
    "# print(y_test,y_hat)"
   ]
  },
  {
   "cell_type": "code",
   "execution_count": 23,
   "metadata": {
    "id": "OiP39HLlUWDH"
   },
   "outputs": [
    {
     "data": {
      "text/plain": [
       "['0.1696969696969697',\n",
       " '0.5445544554455446',\n",
       " '[0.08695652173913043, 0.6594202898550725, 0.2536231884057971]',\n",
       " '[1, 0.9999999999999998, 86583642.22454011]',\n",
       " 7,\n",
       " '0',\n",
       " '0',\n",
       " '0']"
      ]
     },
     "execution_count": 23,
     "metadata": {},
     "output_type": "execute_result"
    }
   ],
   "source": [
    "#Write your answers here\n",
    "\n",
    "ans[4]=error\n",
    "ans"
   ]
  },
  {
   "cell_type": "code",
   "execution_count": 21,
   "metadata": {},
   "outputs": [],
   "source": [
    "import json\n",
    "ans = [str(item) for item in ans]\n",
    "\n",
    "filename = \"umangpandey07@gmail.com_Umang_Pandey_NaiveBayes\"\n",
    "\n",
    "# Eg if your name is Saurav Joshi and email id is sauravjoshi123@gmail.com, filename becomes\n",
    "# filename = sauravjoshi123@gmail.com_Saurav_Joshi_NaiveBayes"
   ]
  },
  {
   "cell_type": "markdown",
   "metadata": {},
   "source": [
    "## Do not change anything below!!\n",
    "- Make sure you have changed the above variable \"filename\" with the correct value. Do not change anything below!!"
   ]
  },
  {
   "cell_type": "code",
   "execution_count": 22,
   "metadata": {},
   "outputs": [
    {
     "name": "stdout",
     "output_type": "stream",
     "text": [
      "{'Comments': 'Please make sure the Python script you are submitting is not '\n",
      "             'having errors. Try running before submitting',\n",
      " 'Message': 'Successfully submitted! Thanks for taking the exercise',\n",
      " 'details': 'abhiamisagar2512@gmail.com_Abhishek_Purohit_NaiveBayes',\n",
      " 'status': 'Success'}\n"
     ]
    }
   ],
   "source": [
    "from importlib import import_module\n",
    "import os\n",
    "from pprint import pprint\n",
    "\n",
    "findScore = import_module('findScore')\n",
    "response = findScore.main(ans)\n",
    "response['details'] = filename\n",
    "with open(f'evaluation_{filename}.json', 'w') as outfile:\n",
    "    json.dump(response, outfile)\n",
    "pprint(response)"
   ]
  },
  {
   "cell_type": "code",
   "execution_count": null,
   "metadata": {},
   "outputs": [],
   "source": []
  }
 ],
 "metadata": {
  "colab": {
   "authorship_tag": "ABX9TyNbuTpa2E1VtqCIXbZw0hZc",
   "name": "unit13_Begin.ipynb",
   "provenance": []
  },
  "kernelspec": {
   "display_name": "Python 3",
   "language": "python",
   "name": "python3"
  },
  "language_info": {
   "codemirror_mode": {
    "name": "ipython",
    "version": 3
   },
   "file_extension": ".py",
   "mimetype": "text/x-python",
   "name": "python",
   "nbconvert_exporter": "python",
   "pygments_lexer": "ipython3",
   "version": "3.7.6"
  }
 },
 "nbformat": 4,
 "nbformat_minor": 1
}
